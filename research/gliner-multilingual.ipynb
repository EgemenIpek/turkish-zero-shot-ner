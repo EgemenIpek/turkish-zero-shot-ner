{
 "cells": [
  {
   "cell_type": "code",
   "execution_count": 1,
   "metadata": {},
   "outputs": [
    {
     "name": "stderr",
     "output_type": "stream",
     "text": [
      "/Users/egemenipek/projects/turkish-zero-shot-ner/.venv/lib/python3.11/site-packages/tqdm/auto.py:21: TqdmWarning: IProgress not found. Please update jupyter and ipywidgets. See https://ipywidgets.readthedocs.io/en/stable/user_install.html\n",
      "  from .autonotebook import tqdm as notebook_tqdm\n"
     ]
    }
   ],
   "source": [
    "from transformers import AutoModelForTokenClassification, AutoTokenizer, pipeline\n",
    "import torch\n",
    "import datasets"
   ]
  },
  {
   "cell_type": "markdown",
   "metadata": {},
   "source": [
    "# 🤖 Turkish NER Models"
   ]
  },
  {
   "cell_type": "code",
   "execution_count": 51,
   "metadata": {},
   "outputs": [
    {
     "name": "stderr",
     "output_type": "stream",
     "text": [
      "Some weights of the model checkpoint at ../models/savasy-bert-base-turkish-cased were not used when initializing BertForTokenClassification: ['bert.pooler.dense.bias', 'bert.pooler.dense.weight']\n",
      "- This IS expected if you are initializing BertForTokenClassification from the checkpoint of a model trained on another task or with another architecture (e.g. initializing a BertForSequenceClassification model from a BertForPreTraining model).\n",
      "- This IS NOT expected if you are initializing BertForTokenClassification from the checkpoint of a model that you expect to be exactly identical (initializing a BertForSequenceClassification model from a BertForSequenceClassification model).\n",
      "Device set to use mps:0\n"
     ]
    }
   ],
   "source": [
    "from transformers import pipeline, AutoModelForTokenClassification, AutoTokenizer\n",
    "model = AutoModelForTokenClassification.from_pretrained(\"../models/savasy-bert-base-turkish-cased\")\n",
    "tokenizer = AutoTokenizer.from_pretrained(\"../models/savasy-bert-base-turkish-cased\")\n",
    "ner=pipeline('ner', model=model, tokenizer=tokenizer)"
   ]
  },
  {
   "cell_type": "code",
   "execution_count": 52,
   "metadata": {},
   "outputs": [
    {
     "data": {
      "text/plain": [
       "{0: 'B-LOC',\n",
       " 1: 'B-ORG',\n",
       " 2: 'B-PER',\n",
       " 3: 'I-LOC',\n",
       " 4: 'I-ORG',\n",
       " 5: 'I-PER',\n",
       " 6: 'O'}"
      ]
     },
     "execution_count": 52,
     "metadata": {},
     "output_type": "execute_result"
    }
   ],
   "source": [
    "model.config.id2label"
   ]
  },
  {
   "cell_type": "code",
   "execution_count": 53,
   "metadata": {},
   "outputs": [
    {
     "data": {
      "text/plain": [
       "[{'entity': 'B-PER',\n",
       "  'score': np.float32(0.9982192),\n",
       "  'index': 5,\n",
       "  'word': 'Egemen',\n",
       "  'start': 19,\n",
       "  'end': 25},\n",
       " {'entity': 'I-PER',\n",
       "  'score': np.float32(0.9797989),\n",
       "  'index': 6,\n",
       "  'word': 'I',\n",
       "  'start': 26,\n",
       "  'end': 27},\n",
       " {'entity': 'I-PER',\n",
       "  'score': np.float32(0.91672146),\n",
       "  'index': 7,\n",
       "  'word': '##pek',\n",
       "  'start': 27,\n",
       "  'end': 30},\n",
       " {'entity': 'B-PER',\n",
       "  'score': np.float32(0.9953544),\n",
       "  'index': 12,\n",
       "  'word': 'Egemen',\n",
       "  'start': 41,\n",
       "  'end': 47},\n",
       " {'entity': 'I-PER',\n",
       "  'score': np.float32(0.9587967),\n",
       "  'index': 13,\n",
       "  'word': 'I',\n",
       "  'start': 48,\n",
       "  'end': 49},\n",
       " {'entity': 'I-PER',\n",
       "  'score': np.float32(0.91520643),\n",
       "  'index': 14,\n",
       "  'word': '##pek',\n",
       "  'start': 49,\n",
       "  'end': 52},\n",
       " {'entity': 'B-LOC',\n",
       "  'score': np.float32(0.97229654),\n",
       "  'index': 18,\n",
       "  'word': 'Turk',\n",
       "  'start': 57,\n",
       "  'end': 61},\n",
       " {'entity': 'I-LOC',\n",
       "  'score': np.float32(0.97382057),\n",
       "  'index': 19,\n",
       "  'word': '##iye',\n",
       "  'start': 61,\n",
       "  'end': 64},\n",
       " {'entity': 'B-LOC',\n",
       "  'score': np.float32(0.99521154),\n",
       "  'index': 21,\n",
       "  'word': 'Almanya',\n",
       "  'start': 66,\n",
       "  'end': 73},\n",
       " {'entity': 'B-ORG',\n",
       "  'score': np.float32(0.9724688),\n",
       "  'index': 23,\n",
       "  'word': 'Antik',\n",
       "  'start': 75,\n",
       "  'end': 80},\n",
       " {'entity': 'I-ORG',\n",
       "  'score': np.float32(0.96563584),\n",
       "  'index': 24,\n",
       "  'word': 'Mis',\n",
       "  'start': 81,\n",
       "  'end': 84},\n",
       " {'entity': 'I-ORG',\n",
       "  'score': np.float32(0.97504336),\n",
       "  'index': 25,\n",
       "  'word': '##ir',\n",
       "  'start': 84,\n",
       "  'end': 86},\n",
       " {'entity': 'I-ORG',\n",
       "  'score': np.float32(0.94760364),\n",
       "  'index': 26,\n",
       "  'word': 'Uy',\n",
       "  'start': 87,\n",
       "  'end': 89},\n",
       " {'entity': 'I-ORG',\n",
       "  'score': np.float32(0.9542584),\n",
       "  'index': 27,\n",
       "  'word': '##gar',\n",
       "  'start': 89,\n",
       "  'end': 92},\n",
       " {'entity': 'I-ORG',\n",
       "  'score': np.float32(0.9562898),\n",
       "  'index': 28,\n",
       "  'word': '##ligi',\n",
       "  'start': 92,\n",
       "  'end': 96},\n",
       " {'entity': 'B-ORG',\n",
       "  'score': np.float32(0.9897226),\n",
       "  'index': 30,\n",
       "  'word': 'Efes',\n",
       "  'start': 98,\n",
       "  'end': 102},\n",
       " {'entity': 'I-ORG',\n",
       "  'score': np.float32(0.99620926),\n",
       "  'index': 31,\n",
       "  'word': 'Kons',\n",
       "  'start': 103,\n",
       "  'end': 107},\n",
       " {'entity': 'I-ORG',\n",
       "  'score': np.float32(0.9955837),\n",
       "  'index': 32,\n",
       "  'word': '##ili',\n",
       "  'start': 107,\n",
       "  'end': 110}]"
      ]
     },
     "execution_count": 53,
     "metadata": {},
     "output_type": "execute_result"
    }
   ],
   "source": [
    "ner(\"Merhaba benim adim Egemen Ipek. Bu canta Egemen Ipek'in. Turkiye, Almanya, Antik Misir Uygarligi, Efes Konsili\")\n",
    "# it's span, I like it picasso"
   ]
  },
  {
   "cell_type": "code",
   "execution_count": 54,
   "metadata": {},
   "outputs": [
    {
     "name": "stderr",
     "output_type": "stream",
     "text": [
      "Device set to use mps:0\n"
     ]
    }
   ],
   "source": [
    "from transformers import pipeline, AutoModelForTokenClassification, AutoTokenizer\n",
    "model = AutoModelForTokenClassification.from_pretrained(\"../models/turkish-ner-bert-base-uncased\")\n",
    "tokenizer = AutoTokenizer.from_pretrained(\"../models/turkish-ner-bert-base-uncased\")\n",
    "ner=pipeline('ner', model=model, tokenizer=tokenizer)"
   ]
  },
  {
   "cell_type": "code",
   "execution_count": 55,
   "metadata": {},
   "outputs": [
    {
     "data": {
      "text/plain": [
       "{0: 'O',\n",
       " 1: 'B-PER',\n",
       " 2: 'I-PER',\n",
       " 3: 'B-ORG',\n",
       " 4: 'I-ORG',\n",
       " 5: 'B-LOC',\n",
       " 6: 'I-LOC'}"
      ]
     },
     "execution_count": 55,
     "metadata": {},
     "output_type": "execute_result"
    }
   ],
   "source": [
    "model.config.id2label"
   ]
  },
  {
   "cell_type": "code",
   "execution_count": 56,
   "metadata": {},
   "outputs": [
    {
     "data": {
      "text/plain": [
       "[{'entity': 'B-PER',\n",
       "  'score': np.float32(0.9940983),\n",
       "  'index': 5,\n",
       "  'word': 'Egemen',\n",
       "  'start': 19,\n",
       "  'end': 25},\n",
       " {'entity': 'I-PER',\n",
       "  'score': np.float32(0.99180484),\n",
       "  'index': 6,\n",
       "  'word': 'I',\n",
       "  'start': 26,\n",
       "  'end': 27},\n",
       " {'entity': 'I-PER',\n",
       "  'score': np.float32(0.988379),\n",
       "  'index': 7,\n",
       "  'word': '##pek',\n",
       "  'start': 27,\n",
       "  'end': 30},\n",
       " {'entity': 'B-PER',\n",
       "  'score': np.float32(0.9906848),\n",
       "  'index': 12,\n",
       "  'word': 'Egemen',\n",
       "  'start': 41,\n",
       "  'end': 47},\n",
       " {'entity': 'I-PER',\n",
       "  'score': np.float32(0.99015737),\n",
       "  'index': 13,\n",
       "  'word': 'I',\n",
       "  'start': 48,\n",
       "  'end': 49},\n",
       " {'entity': 'I-PER',\n",
       "  'score': np.float32(0.9773221),\n",
       "  'index': 14,\n",
       "  'word': '##pek',\n",
       "  'start': 49,\n",
       "  'end': 52},\n",
       " {'entity': 'B-LOC',\n",
       "  'score': np.float32(0.9941882),\n",
       "  'index': 18,\n",
       "  'word': 'Turk',\n",
       "  'start': 57,\n",
       "  'end': 61},\n",
       " {'entity': 'B-LOC',\n",
       "  'score': np.float32(0.9979645),\n",
       "  'index': 19,\n",
       "  'word': '##iye',\n",
       "  'start': 61,\n",
       "  'end': 64},\n",
       " {'entity': 'B-LOC',\n",
       "  'score': np.float32(0.9984055),\n",
       "  'index': 21,\n",
       "  'word': 'Almanya',\n",
       "  'start': 66,\n",
       "  'end': 73},\n",
       " {'entity': 'B-LOC',\n",
       "  'score': np.float32(0.4574632),\n",
       "  'index': 30,\n",
       "  'word': 'Efes',\n",
       "  'start': 98,\n",
       "  'end': 102}]"
      ]
     },
     "execution_count": 56,
     "metadata": {},
     "output_type": "execute_result"
    }
   ],
   "source": [
    "ner(\"Merhaba benim adim Egemen Ipek. Bu canta Egemen Ipek'in. Turkiye, Almanya, Antik Misir Uygarligi, Efes Konsili\")\n",
    "# it's span, I like it picasso"
   ]
  },
  {
   "cell_type": "markdown",
   "metadata": {},
   "source": [
    "# 📊 Dataset"
   ]
  },
  {
   "cell_type": "code",
   "execution_count": 40,
   "metadata": {},
   "outputs": [],
   "source": [
    "import pandas as pd\n",
    "df = pd.read_parquet(\"../data/test.parquet\")"
   ]
  },
  {
   "cell_type": "code",
   "execution_count": 41,
   "metadata": {},
   "outputs": [
    {
     "data": {
      "text/html": [
       "<div>\n",
       "<style scoped>\n",
       "    .dataframe tbody tr th:only-of-type {\n",
       "        vertical-align: middle;\n",
       "    }\n",
       "\n",
       "    .dataframe tbody tr th {\n",
       "        vertical-align: top;\n",
       "    }\n",
       "\n",
       "    .dataframe thead th {\n",
       "        text-align: right;\n",
       "    }\n",
       "</style>\n",
       "<table border=\"1\" class=\"dataframe\">\n",
       "  <thead>\n",
       "    <tr style=\"text-align: right;\">\n",
       "      <th></th>\n",
       "      <th>id</th>\n",
       "      <th>text</th>\n",
       "      <th>title</th>\n",
       "      <th>ner</th>\n",
       "      <th>cleaned_ners</th>\n",
       "      <th>cleaned_new</th>\n",
       "    </tr>\n",
       "  </thead>\n",
       "  <tbody>\n",
       "    <tr>\n",
       "      <th>0</th>\n",
       "      <td>16</td>\n",
       "      <td>Film şu anlamlara gelebilir: * Camlara yapıştı...</td>\n",
       "      <td>Film (anlam ayrımı)</td>\n",
       "      <td>[{'end': 188, 'entity': 'I-ORG', 'index': 38, ...</td>\n",
       "      <td>[Sam, Bec, To, Film, İngiltere]</td>\n",
       "      <td>[Sam, Bec, İngiltere, Film]</td>\n",
       "    </tr>\n",
       "    <tr>\n",
       "      <th>1</th>\n",
       "      <td>30</td>\n",
       "      <td>Bolşevik, çoğunluktan yana anlamına gelen Rusç...</td>\n",
       "      <td>Bolşevizm</td>\n",
       "      <td>[{'end': 85, 'entity': 'B-ORG', 'index': 17, '...</td>\n",
       "      <td>[Rusya, Sosyal, Demokrat, İşçi, Partisi, nin, ...</td>\n",
       "      <td>[İşçi, Ekim, Londra, Partisi, Brüksel, Birliği...</td>\n",
       "    </tr>\n",
       "    <tr>\n",
       "      <th>2</th>\n",
       "      <td>39</td>\n",
       "      <td>küçükresim|200px|Cinepaint ekran yakalama görü...</td>\n",
       "      <td>Cinepaint</td>\n",
       "      <td>[{'end': 55, 'entity': 'B-ORG', 'index': 15, '...</td>\n",
       "      <td>[Cin, Film, Gi, Cin]</td>\n",
       "      <td>[Film, Cin]</td>\n",
       "    </tr>\n",
       "    <tr>\n",
       "      <th>3</th>\n",
       "      <td>24</td>\n",
       "      <td>Linux (telaffuz: Lin-uks); Linux çekirdeğine d...</td>\n",
       "      <td>Linux</td>\n",
       "      <td>[{'end': 32, 'entity': 'B-ORG', 'index': 11, '...</td>\n",
       "      <td>[Uni, G, Genel, Kamu, Lisans, Linux, Vakfı, Li...</td>\n",
       "      <td>[Lin, bülten, Uni, Richard, Stal, Lisans, Gene...</td>\n",
       "    </tr>\n",
       "    <tr>\n",
       "      <th>4</th>\n",
       "      <td>10</td>\n",
       "      <td>Cengiz Han (doğum adıyla Temuçin, – 18 Ağustos...</td>\n",
       "      <td>Cengiz Han</td>\n",
       "      <td>[{'end': 6, 'entity': 'B-PER', 'index': 1, 'sc...</td>\n",
       "      <td>[Cengiz, Han, İmparatorluğu, Cengiz, Han, Orta...</td>\n",
       "      <td>[Nehri, Bulgar, Cengiz, Orta, Xia, Tarihi, İmp...</td>\n",
       "    </tr>\n",
       "  </tbody>\n",
       "</table>\n",
       "</div>"
      ],
      "text/plain": [
       "   id                                               text                title  \\\n",
       "0  16  Film şu anlamlara gelebilir: * Camlara yapıştı...  Film (anlam ayrımı)   \n",
       "1  30  Bolşevik, çoğunluktan yana anlamına gelen Rusç...            Bolşevizm   \n",
       "2  39  küçükresim|200px|Cinepaint ekran yakalama görü...            Cinepaint   \n",
       "3  24  Linux (telaffuz: Lin-uks); Linux çekirdeğine d...                Linux   \n",
       "4  10  Cengiz Han (doğum adıyla Temuçin, – 18 Ağustos...           Cengiz Han   \n",
       "\n",
       "                                                 ner  \\\n",
       "0  [{'end': 188, 'entity': 'I-ORG', 'index': 38, ...   \n",
       "1  [{'end': 85, 'entity': 'B-ORG', 'index': 17, '...   \n",
       "2  [{'end': 55, 'entity': 'B-ORG', 'index': 15, '...   \n",
       "3  [{'end': 32, 'entity': 'B-ORG', 'index': 11, '...   \n",
       "4  [{'end': 6, 'entity': 'B-PER', 'index': 1, 'sc...   \n",
       "\n",
       "                                        cleaned_ners  \\\n",
       "0                    [Sam, Bec, To, Film, İngiltere]   \n",
       "1  [Rusya, Sosyal, Demokrat, İşçi, Partisi, nin, ...   \n",
       "2                               [Cin, Film, Gi, Cin]   \n",
       "3  [Uni, G, Genel, Kamu, Lisans, Linux, Vakfı, Li...   \n",
       "4  [Cengiz, Han, İmparatorluğu, Cengiz, Han, Orta...   \n",
       "\n",
       "                                         cleaned_new  \n",
       "0                        [Sam, Bec, İngiltere, Film]  \n",
       "1  [İşçi, Ekim, Londra, Partisi, Brüksel, Birliği...  \n",
       "2                                        [Film, Cin]  \n",
       "3  [Lin, bülten, Uni, Richard, Stal, Lisans, Gene...  \n",
       "4  [Nehri, Bulgar, Cengiz, Orta, Xia, Tarihi, İmp...  "
      ]
     },
     "execution_count": 41,
     "metadata": {},
     "output_type": "execute_result"
    }
   ],
   "source": [
    "df.head()"
   ]
  },
  {
   "cell_type": "code",
   "execution_count": 42,
   "metadata": {},
   "outputs": [],
   "source": [
    "df.drop(columns=['id', 'title', 'cleaned_new', 'cleaned_ners'], inplace=True)"
   ]
  },
  {
   "cell_type": "code",
   "execution_count": 43,
   "metadata": {},
   "outputs": [
    {
     "data": {
      "text/html": [
       "<div>\n",
       "<style scoped>\n",
       "    .dataframe tbody tr th:only-of-type {\n",
       "        vertical-align: middle;\n",
       "    }\n",
       "\n",
       "    .dataframe tbody tr th {\n",
       "        vertical-align: top;\n",
       "    }\n",
       "\n",
       "    .dataframe thead th {\n",
       "        text-align: right;\n",
       "    }\n",
       "</style>\n",
       "<table border=\"1\" class=\"dataframe\">\n",
       "  <thead>\n",
       "    <tr style=\"text-align: right;\">\n",
       "      <th></th>\n",
       "      <th>text</th>\n",
       "      <th>ner</th>\n",
       "    </tr>\n",
       "  </thead>\n",
       "  <tbody>\n",
       "    <tr>\n",
       "      <th>0</th>\n",
       "      <td>Film şu anlamlara gelebilir: * Camlara yapıştı...</td>\n",
       "      <td>[{'end': 188, 'entity': 'I-ORG', 'index': 38, ...</td>\n",
       "    </tr>\n",
       "    <tr>\n",
       "      <th>1</th>\n",
       "      <td>Bolşevik, çoğunluktan yana anlamına gelen Rusç...</td>\n",
       "      <td>[{'end': 85, 'entity': 'B-ORG', 'index': 17, '...</td>\n",
       "    </tr>\n",
       "    <tr>\n",
       "      <th>2</th>\n",
       "      <td>küçükresim|200px|Cinepaint ekran yakalama görü...</td>\n",
       "      <td>[{'end': 55, 'entity': 'B-ORG', 'index': 15, '...</td>\n",
       "    </tr>\n",
       "    <tr>\n",
       "      <th>3</th>\n",
       "      <td>Linux (telaffuz: Lin-uks); Linux çekirdeğine d...</td>\n",
       "      <td>[{'end': 32, 'entity': 'B-ORG', 'index': 11, '...</td>\n",
       "    </tr>\n",
       "    <tr>\n",
       "      <th>4</th>\n",
       "      <td>Cengiz Han (doğum adıyla Temuçin, – 18 Ağustos...</td>\n",
       "      <td>[{'end': 6, 'entity': 'B-PER', 'index': 1, 'sc...</td>\n",
       "    </tr>\n",
       "  </tbody>\n",
       "</table>\n",
       "</div>"
      ],
      "text/plain": [
       "                                                text  \\\n",
       "0  Film şu anlamlara gelebilir: * Camlara yapıştı...   \n",
       "1  Bolşevik, çoğunluktan yana anlamına gelen Rusç...   \n",
       "2  küçükresim|200px|Cinepaint ekran yakalama görü...   \n",
       "3  Linux (telaffuz: Lin-uks); Linux çekirdeğine d...   \n",
       "4  Cengiz Han (doğum adıyla Temuçin, – 18 Ağustos...   \n",
       "\n",
       "                                                 ner  \n",
       "0  [{'end': 188, 'entity': 'I-ORG', 'index': 38, ...  \n",
       "1  [{'end': 85, 'entity': 'B-ORG', 'index': 17, '...  \n",
       "2  [{'end': 55, 'entity': 'B-ORG', 'index': 15, '...  \n",
       "3  [{'end': 32, 'entity': 'B-ORG', 'index': 11, '...  \n",
       "4  [{'end': 6, 'entity': 'B-PER', 'index': 1, 'sc...  "
      ]
     },
     "execution_count": 43,
     "metadata": {},
     "output_type": "execute_result"
    }
   ],
   "source": [
    "df.head()"
   ]
  },
  {
   "cell_type": "code",
   "execution_count": 50,
   "metadata": {},
   "outputs": [
    {
     "data": {
      "text/plain": [
       "{'end': 397,\n",
       " 'entity': 'B-PER',\n",
       " 'index': 88,\n",
       " 'score': 0.9993795156478882,\n",
       " 'start': 394,\n",
       " 'word': 'Sam'}"
      ]
     },
     "execution_count": 50,
     "metadata": {},
     "output_type": "execute_result"
    }
   ],
   "source": [
    "import numpy as np\n",
    "texts = df['text'].to_list()\n",
    "labels = [label.tolist() for label in df['ner'].to_list()]\n",
    "labels[0][2]\n"
   ]
  },
  {
   "cell_type": "markdown",
   "metadata": {},
   "source": [
    "the score has to be higher than 90 for me to except the annotation, there's also the B and I separation in labels. extend 'start' and 'end' based on the B and I structures."
   ]
  },
  {
   "cell_type": "markdown",
   "metadata": {},
   "source": [
    "I need to do some basic formatting of the ner column"
   ]
  },
  {
   "cell_type": "markdown",
   "metadata": {},
   "source": [
    "The texts are too long, and the annotation is not of high quality. Since this is an evaluation case, I'll annotate the gold data myself. I should probably set-up an Argilla server on HuggingFace."
   ]
  },
  {
   "cell_type": "markdown",
   "metadata": {},
   "source": [
    "## 🏷️ Label Handling"
   ]
  },
  {
   "cell_type": "code",
   "execution_count": null,
   "metadata": {},
   "outputs": [],
   "source": [
    "def merge_labels(predictions: list[dict]) -> list[dict]:\n",
    "\n",
    "    '''\n",
    "    This function will merge the data in B and I tagged labels into a single label\n",
    "    The function is only going to do this for very confident (> 90) labels\n",
    "    '''\n",
    "\n",
    "    for idx, prediction in enumerate(predictions):\n",
    "\n",
    "        grouped_predictions = []\n",
    "\n",
    "        if prediction['score'] > 90:\n",
    "\n",
    "            if prediction['entity'].startswith('B'):\n",
    "                \n",
    "\n",
    "\n",
    "            \n",
    "\n",
    "\n",
    "\n",
    "        \n"
   ]
  },
  {
   "cell_type": "code",
   "execution_count": 57,
   "metadata": {},
   "outputs": [
    {
     "data": {
      "text/plain": [
       "[{'entity': 'B-PER',\n",
       "  'score': np.float32(0.9940983),\n",
       "  'index': 5,\n",
       "  'word': 'Egemen',\n",
       "  'start': 19,\n",
       "  'end': 25},\n",
       " {'entity': 'I-PER',\n",
       "  'score': np.float32(0.99180484),\n",
       "  'index': 6,\n",
       "  'word': 'I',\n",
       "  'start': 26,\n",
       "  'end': 27},\n",
       " {'entity': 'I-PER',\n",
       "  'score': np.float32(0.988379),\n",
       "  'index': 7,\n",
       "  'word': '##pek',\n",
       "  'start': 27,\n",
       "  'end': 30},\n",
       " {'entity': 'B-PER',\n",
       "  'score': np.float32(0.9906848),\n",
       "  'index': 12,\n",
       "  'word': 'Egemen',\n",
       "  'start': 41,\n",
       "  'end': 47},\n",
       " {'entity': 'I-PER',\n",
       "  'score': np.float32(0.99015737),\n",
       "  'index': 13,\n",
       "  'word': 'I',\n",
       "  'start': 48,\n",
       "  'end': 49},\n",
       " {'entity': 'I-PER',\n",
       "  'score': np.float32(0.9773221),\n",
       "  'index': 14,\n",
       "  'word': '##pek',\n",
       "  'start': 49,\n",
       "  'end': 52},\n",
       " {'entity': 'B-LOC',\n",
       "  'score': np.float32(0.9941882),\n",
       "  'index': 18,\n",
       "  'word': 'Turk',\n",
       "  'start': 57,\n",
       "  'end': 61},\n",
       " {'entity': 'B-LOC',\n",
       "  'score': np.float32(0.9979645),\n",
       "  'index': 19,\n",
       "  'word': '##iye',\n",
       "  'start': 61,\n",
       "  'end': 64},\n",
       " {'entity': 'B-LOC',\n",
       "  'score': np.float32(0.9984055),\n",
       "  'index': 21,\n",
       "  'word': 'Almanya',\n",
       "  'start': 66,\n",
       "  'end': 73},\n",
       " {'entity': 'B-LOC',\n",
       "  'score': np.float32(0.4574632),\n",
       "  'index': 30,\n",
       "  'word': 'Efes',\n",
       "  'start': 98,\n",
       "  'end': 102}]"
      ]
     },
     "execution_count": 57,
     "metadata": {},
     "output_type": "execute_result"
    }
   ],
   "source": [
    "ner(\"Merhaba benim adim Egemen Ipek. Bu canta Egemen Ipek'in. Turkiye, Almanya, Antik Misir Uygarligi, Efes Konsili\")\n",
    "# it's span, I like it picasso"
   ]
  },
  {
   "cell_type": "markdown",
   "metadata": {},
   "source": [
    "## Argilla"
   ]
  },
  {
   "cell_type": "code",
   "execution_count": 8,
   "metadata": {},
   "outputs": [],
   "source": [
    "import argilla as rg\n",
    "\n",
    "client = rg.Argilla(\n",
    "    api_url=\"https://egemenipek-turkish-ner-eval.hf.space\",\n",
    "    api_key=\"yK2dHaJAoOEyb9ZcwZgZ2kLMijh55dc94XWU6QE4Mw7Bf2a-QhRdxc6He_nJaEoejXI3hsGwB-nQ_A6KfaNlZKRBuzbqmlYmJ2ktfR_0QAQ\"\n",
    ")"
   ]
  },
  {
   "cell_type": "code",
   "execution_count": null,
   "metadata": {},
   "outputs": [
    {
     "data": {
      "text/plain": [
       "User(id=UUID('2d574ff7-b20b-4fed-9fdb-543118be6765') inserted_at=datetime.datetime(2025, 3, 28, 12, 32, 44, 36614) updated_at=datetime.datetime(2025, 3, 28, 12, 32, 44, 36614) username='EgemenIpek' role=<Role.owner: 'owner'> first_name='EgemenIpek' last_name=None password=None)"
      ]
     },
     "execution_count": 9,
     "metadata": {},
     "output_type": "execute_result"
    }
   ],
   "source": [
    "# check connection\n",
    "client.me"
   ]
  },
  {
   "cell_type": "code",
   "execution_count": 10,
   "metadata": {},
   "outputs": [],
   "source": [
    "# argilla settings\n",
    "\n",
    "# labels for annotation\n",
    "labels = ['PER', 'ORG', 'LOC']\n",
    "\n",
    "settings = rg.Settings(\n",
    "    guidelines=\"Classify individual tokens according to the specified categories, ensuring that any overlapping or nested entities are accurately captured.\",\n",
    "    fields=[\n",
    "        rg.TextField(\n",
    "            name=\"text\",\n",
    "            title=\"Text\",\n",
    "            use_markdown=False,\n",
    "        ),\n",
    "    ],\n",
    "    questions=[\n",
    "        rg.SpanQuestion(\n",
    "            name=\"span_label\",\n",
    "            field=\"text\",\n",
    "            labels=labels,\n",
    "            title=\"Classify the tokens according to the specified categories.\",\n",
    "            allow_overlapping=False,\n",
    "        )\n",
    "    ],\n",
    ")"
   ]
  },
  {
   "cell_type": "code",
   "execution_count": null,
   "metadata": {},
   "outputs": [
    {
     "name": "stderr",
     "output_type": "stream",
     "text": [
      "/Users/egemenipek/projects/turkish-zero-shot-ner/.venv/lib/python3.11/site-packages/argilla/datasets/_resource.py:264: UserWarning: Workspace not provided. Using default workspace: argilla id: 5219f0da-abb4-478f-a6d5-4002c4a76b49\n",
      "  warnings.warn(f\"Workspace not provided. Using default workspace: {workspace.name} id: {workspace.id}\")\n"
     ]
    },
    {
     "data": {
      "text/plain": [
       "Dataset(id=UUID('2844a4c4-6e03-444b-adb9-b99275828b71') inserted_at=datetime.datetime(2025, 3, 28, 12, 45, 16, 619151) updated_at=datetime.datetime(2025, 3, 28, 12, 45, 17, 556362) name='turkish-ner-eval' status='ready' guidelines='Classify individual tokens according to the specified categories, ensuring that any overlapping or nested entities are accurately captured.' allow_extra_metadata=False distribution=OverlapTaskDistributionModel(strategy='overlap', min_submitted=1) workspace_id=UUID('5219f0da-abb4-478f-a6d5-4002c4a76b49') last_activity_at=datetime.datetime(2025, 3, 28, 12, 45, 17, 556362))"
      ]
     },
     "execution_count": 11,
     "metadata": {},
     "output_type": "execute_result"
    }
   ],
   "source": [
    "# create argilla dataset at remote\n",
    "dataset = rg.Dataset(\n",
    "    name=\"turkish-ner-eval\",\n",
    "    settings=settings,\n",
    ")\n",
    "dataset.create()"
   ]
  },
  {
   "cell_type": "code",
   "execution_count": 20,
   "metadata": {},
   "outputs": [
    {
     "data": {
      "text/plain": [
       "Record(id=6e6c5b83-b484-467a-8ded-7758c7bc8be9,status=pending,fields={'text': \"Portekiz ya da resmî adıyla Portekiz Cumhuriyeti (), Avrupa’nın güneybatısında İber Yarımadası üzerinde yer alan, Avrupa Kıtası'nın en batısındaki ülkedir. Portekiz kuzeyden ve doğudan İspanya ile, güneyden ve batıdansa Atlas Okyanusu ile çevrilidir.\"},metadata={},suggestions={},responses={})"
      ]
     },
     "execution_count": 20,
     "metadata": {},
     "output_type": "execute_result"
    }
   ],
   "source": [
    "# populate remote dataset\n",
    "records = [rg.Record(fields={\"text\": row}) for row in [text[:250] for text in df['text'].to_list()[300:350]]]\n",
    "records[0]"
   ]
  },
  {
   "cell_type": "code",
   "execution_count": 21,
   "metadata": {},
   "outputs": [
    {
     "data": {
      "text/html": [
       "<pre style=\"white-space:pre;overflow-x:auto;line-height:normal;font-family:Menlo,'DejaVu Sans Mono',consolas,'Courier New',monospace\">DatasetRecords: The provided batch size <span style=\"color: #008080; text-decoration-color: #008080; font-weight: bold\">256</span> was normalized. Using value <span style=\"color: #008080; text-decoration-color: #008080; font-weight: bold\">50</span>.\n",
       "</pre>\n"
      ],
      "text/plain": [
       "DatasetRecords: The provided batch size \u001b[1;36m256\u001b[0m was normalized. Using value \u001b[1;36m50\u001b[0m.\n"
      ]
     },
     "metadata": {},
     "output_type": "display_data"
    },
    {
     "name": "stderr",
     "output_type": "stream",
     "text": [
      "Sending records...: 100%|██████████| 1/1 [00:01<00:00,  1.45s/batch]\n"
     ]
    },
    {
     "data": {
      "text/plain": [
       "DatasetRecords(Dataset(id=UUID('2844a4c4-6e03-444b-adb9-b99275828b71') inserted_at=datetime.datetime(2025, 3, 28, 12, 45, 16, 619151) updated_at=datetime.datetime(2025, 3, 28, 12, 45, 17, 556362) name='turkish-ner-eval' status='ready' guidelines='Classify individual tokens according to the specified categories, ensuring that any overlapping or nested entities are accurately captured.' allow_extra_metadata=False distribution=OverlapTaskDistributionModel(strategy='overlap', min_submitted=1) workspace_id=UUID('5219f0da-abb4-478f-a6d5-4002c4a76b49') last_activity_at=datetime.datetime(2025, 3, 28, 12, 45, 17, 556362)))"
      ]
     },
     "execution_count": 21,
     "metadata": {},
     "output_type": "execute_result"
    }
   ],
   "source": [
    "# add the records to the dataset\n",
    "dataset.records.log(records)"
   ]
  }
 ],
 "metadata": {
  "kernelspec": {
   "display_name": ".venv",
   "language": "python",
   "name": "python3"
  },
  "language_info": {
   "codemirror_mode": {
    "name": "ipython",
    "version": 3
   },
   "file_extension": ".py",
   "mimetype": "text/x-python",
   "name": "python",
   "nbconvert_exporter": "python",
   "pygments_lexer": "ipython3",
   "version": "3.11.7"
  }
 },
 "nbformat": 4,
 "nbformat_minor": 2
}
