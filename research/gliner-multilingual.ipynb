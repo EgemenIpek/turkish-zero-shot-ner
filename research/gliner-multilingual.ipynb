{
 "cells": [
  {
   "cell_type": "code",
   "execution_count": null,
   "metadata": {},
   "outputs": [
    {
     "name": "stderr",
     "output_type": "stream",
     "text": [
      "/Users/egemenipek/projects/turkish-zero-shot-ner/.venv/lib/python3.11/site-packages/tqdm/auto.py:21: TqdmWarning: IProgress not found. Please update jupyter and ipywidgets. See https://ipywidgets.readthedocs.io/en/stable/user_install.html\n",
      "  from .autonotebook import tqdm as notebook_tqdm\n"
     ]
    }
   ],
   "source": [
    "from transformers import AutoModelForTokenClassification, AutoTokenizer, pipeline\n",
    "import torch"
   ]
  },
  {
   "cell_type": "code",
   "execution_count": null,
   "metadata": {},
   "outputs": [
    {
     "name": "stderr",
     "output_type": "stream",
     "text": [
      "Device set to use mps:0\n"
     ]
    },
    {
     "data": {
      "text/plain": [
       "[]"
      ]
     },
     "execution_count": 2,
     "metadata": {},
     "output_type": "execute_result"
    }
   ],
   "source": [
    "model = AutoModelForTokenClassification.from_pretrained(\"akdeniz27/bert-base-turkish-cased-ner\")\n",
    "tokenizer = AutoTokenizer.from_pretrained(\"akdeniz27/bert-base-turkish-cased-ner\")\n",
    "ner = pipeline('ner', model=model, tokenizer=tokenizer, aggregation_strategy=\"first\")\n"
   ]
  },
  {
   "cell_type": "code",
   "execution_count": null,
   "metadata": {},
   "outputs": [
    {
     "data": {
      "text/plain": [
       "[{'entity_group': 'PER',\n",
       "  'score': np.float32(0.9960741),\n",
       "  'word': 'Berkcan',\n",
       "  'start': 0,\n",
       "  'end': 7},\n",
       " {'entity_group': 'PER',\n",
       "  'score': np.float32(0.99644864),\n",
       "  'word': 'Mehmet',\n",
       "  'start': 11,\n",
       "  'end': 17},\n",
       " {'entity_group': 'LOC',\n",
       "  'score': np.float32(0.97968364),\n",
       "  'word': 'Ankara',\n",
       "  'start': 18,\n",
       "  'end': 24},\n",
       " {'entity_group': 'ORG',\n",
       "  'score': np.float32(0.9946207),\n",
       "  'word': 'Apple',\n",
       "  'start': 56,\n",
       "  'end': 61}]"
      ]
     },
     "execution_count": 8,
     "metadata": {},
     "output_type": "execute_result"
    }
   ],
   "source": []
  },
  {
   "cell_type": "markdown",
   "metadata": {},
   "source": [
    "# 📊 Dataset"
   ]
  },
  {
   "cell_type": "code",
   "execution_count": 13,
   "metadata": {},
   "outputs": [],
   "source": [
    "import pandas as pd\n",
    "df = pd.read_parquet(\"../data/test.parquet\")"
   ]
  },
  {
   "cell_type": "code",
   "execution_count": 14,
   "metadata": {},
   "outputs": [
    {
     "data": {
      "text/html": [
       "<div>\n",
       "<style scoped>\n",
       "    .dataframe tbody tr th:only-of-type {\n",
       "        vertical-align: middle;\n",
       "    }\n",
       "\n",
       "    .dataframe tbody tr th {\n",
       "        vertical-align: top;\n",
       "    }\n",
       "\n",
       "    .dataframe thead th {\n",
       "        text-align: right;\n",
       "    }\n",
       "</style>\n",
       "<table border=\"1\" class=\"dataframe\">\n",
       "  <thead>\n",
       "    <tr style=\"text-align: right;\">\n",
       "      <th></th>\n",
       "      <th>id</th>\n",
       "      <th>text</th>\n",
       "      <th>title</th>\n",
       "      <th>ner</th>\n",
       "      <th>cleaned_ners</th>\n",
       "      <th>cleaned_new</th>\n",
       "    </tr>\n",
       "  </thead>\n",
       "  <tbody>\n",
       "    <tr>\n",
       "      <th>0</th>\n",
       "      <td>16</td>\n",
       "      <td>Film şu anlamlara gelebilir: * Camlara yapıştı...</td>\n",
       "      <td>Film (anlam ayrımı)</td>\n",
       "      <td>[{'end': 188, 'entity': 'I-ORG', 'index': 38, ...</td>\n",
       "      <td>[Sam, Bec, To, Film, İngiltere]</td>\n",
       "      <td>[Sam, Bec, İngiltere, Film]</td>\n",
       "    </tr>\n",
       "    <tr>\n",
       "      <th>1</th>\n",
       "      <td>30</td>\n",
       "      <td>Bolşevik, çoğunluktan yana anlamına gelen Rusç...</td>\n",
       "      <td>Bolşevizm</td>\n",
       "      <td>[{'end': 85, 'entity': 'B-ORG', 'index': 17, '...</td>\n",
       "      <td>[Rusya, Sosyal, Demokrat, İşçi, Partisi, nin, ...</td>\n",
       "      <td>[İşçi, Ekim, Londra, Partisi, Brüksel, Birliği...</td>\n",
       "    </tr>\n",
       "    <tr>\n",
       "      <th>2</th>\n",
       "      <td>39</td>\n",
       "      <td>küçükresim|200px|Cinepaint ekran yakalama görü...</td>\n",
       "      <td>Cinepaint</td>\n",
       "      <td>[{'end': 55, 'entity': 'B-ORG', 'index': 15, '...</td>\n",
       "      <td>[Cin, Film, Gi, Cin]</td>\n",
       "      <td>[Film, Cin]</td>\n",
       "    </tr>\n",
       "    <tr>\n",
       "      <th>3</th>\n",
       "      <td>24</td>\n",
       "      <td>Linux (telaffuz: Lin-uks); Linux çekirdeğine d...</td>\n",
       "      <td>Linux</td>\n",
       "      <td>[{'end': 32, 'entity': 'B-ORG', 'index': 11, '...</td>\n",
       "      <td>[Uni, G, Genel, Kamu, Lisans, Linux, Vakfı, Li...</td>\n",
       "      <td>[Lin, bülten, Uni, Richard, Stal, Lisans, Gene...</td>\n",
       "    </tr>\n",
       "    <tr>\n",
       "      <th>4</th>\n",
       "      <td>10</td>\n",
       "      <td>Cengiz Han (doğum adıyla Temuçin, – 18 Ağustos...</td>\n",
       "      <td>Cengiz Han</td>\n",
       "      <td>[{'end': 6, 'entity': 'B-PER', 'index': 1, 'sc...</td>\n",
       "      <td>[Cengiz, Han, İmparatorluğu, Cengiz, Han, Orta...</td>\n",
       "      <td>[Nehri, Bulgar, Cengiz, Orta, Xia, Tarihi, İmp...</td>\n",
       "    </tr>\n",
       "  </tbody>\n",
       "</table>\n",
       "</div>"
      ],
      "text/plain": [
       "   id                                               text                title  \\\n",
       "0  16  Film şu anlamlara gelebilir: * Camlara yapıştı...  Film (anlam ayrımı)   \n",
       "1  30  Bolşevik, çoğunluktan yana anlamına gelen Rusç...            Bolşevizm   \n",
       "2  39  küçükresim|200px|Cinepaint ekran yakalama görü...            Cinepaint   \n",
       "3  24  Linux (telaffuz: Lin-uks); Linux çekirdeğine d...                Linux   \n",
       "4  10  Cengiz Han (doğum adıyla Temuçin, – 18 Ağustos...           Cengiz Han   \n",
       "\n",
       "                                                 ner  \\\n",
       "0  [{'end': 188, 'entity': 'I-ORG', 'index': 38, ...   \n",
       "1  [{'end': 85, 'entity': 'B-ORG', 'index': 17, '...   \n",
       "2  [{'end': 55, 'entity': 'B-ORG', 'index': 15, '...   \n",
       "3  [{'end': 32, 'entity': 'B-ORG', 'index': 11, '...   \n",
       "4  [{'end': 6, 'entity': 'B-PER', 'index': 1, 'sc...   \n",
       "\n",
       "                                        cleaned_ners  \\\n",
       "0                    [Sam, Bec, To, Film, İngiltere]   \n",
       "1  [Rusya, Sosyal, Demokrat, İşçi, Partisi, nin, ...   \n",
       "2                               [Cin, Film, Gi, Cin]   \n",
       "3  [Uni, G, Genel, Kamu, Lisans, Linux, Vakfı, Li...   \n",
       "4  [Cengiz, Han, İmparatorluğu, Cengiz, Han, Orta...   \n",
       "\n",
       "                                         cleaned_new  \n",
       "0                        [Sam, Bec, İngiltere, Film]  \n",
       "1  [İşçi, Ekim, Londra, Partisi, Brüksel, Birliği...  \n",
       "2                                        [Film, Cin]  \n",
       "3  [Lin, bülten, Uni, Richard, Stal, Lisans, Gene...  \n",
       "4  [Nehri, Bulgar, Cengiz, Orta, Xia, Tarihi, İmp...  "
      ]
     },
     "execution_count": 14,
     "metadata": {},
     "output_type": "execute_result"
    }
   ],
   "source": [
    "df.head()"
   ]
  },
  {
   "cell_type": "code",
   "execution_count": 15,
   "metadata": {},
   "outputs": [],
   "source": [
    "df.drop(columns=['id', 'title', 'cleaned_new', 'cleaned_ners'], inplace=True)"
   ]
  },
  {
   "cell_type": "code",
   "execution_count": 16,
   "metadata": {},
   "outputs": [
    {
     "data": {
      "text/html": [
       "<div>\n",
       "<style scoped>\n",
       "    .dataframe tbody tr th:only-of-type {\n",
       "        vertical-align: middle;\n",
       "    }\n",
       "\n",
       "    .dataframe tbody tr th {\n",
       "        vertical-align: top;\n",
       "    }\n",
       "\n",
       "    .dataframe thead th {\n",
       "        text-align: right;\n",
       "    }\n",
       "</style>\n",
       "<table border=\"1\" class=\"dataframe\">\n",
       "  <thead>\n",
       "    <tr style=\"text-align: right;\">\n",
       "      <th></th>\n",
       "      <th>text</th>\n",
       "      <th>ner</th>\n",
       "    </tr>\n",
       "  </thead>\n",
       "  <tbody>\n",
       "    <tr>\n",
       "      <th>0</th>\n",
       "      <td>Film şu anlamlara gelebilir: * Camlara yapıştı...</td>\n",
       "      <td>[{'end': 188, 'entity': 'I-ORG', 'index': 38, ...</td>\n",
       "    </tr>\n",
       "    <tr>\n",
       "      <th>1</th>\n",
       "      <td>Bolşevik, çoğunluktan yana anlamına gelen Rusç...</td>\n",
       "      <td>[{'end': 85, 'entity': 'B-ORG', 'index': 17, '...</td>\n",
       "    </tr>\n",
       "    <tr>\n",
       "      <th>2</th>\n",
       "      <td>küçükresim|200px|Cinepaint ekran yakalama görü...</td>\n",
       "      <td>[{'end': 55, 'entity': 'B-ORG', 'index': 15, '...</td>\n",
       "    </tr>\n",
       "    <tr>\n",
       "      <th>3</th>\n",
       "      <td>Linux (telaffuz: Lin-uks); Linux çekirdeğine d...</td>\n",
       "      <td>[{'end': 32, 'entity': 'B-ORG', 'index': 11, '...</td>\n",
       "    </tr>\n",
       "    <tr>\n",
       "      <th>4</th>\n",
       "      <td>Cengiz Han (doğum adıyla Temuçin, – 18 Ağustos...</td>\n",
       "      <td>[{'end': 6, 'entity': 'B-PER', 'index': 1, 'sc...</td>\n",
       "    </tr>\n",
       "  </tbody>\n",
       "</table>\n",
       "</div>"
      ],
      "text/plain": [
       "                                                text  \\\n",
       "0  Film şu anlamlara gelebilir: * Camlara yapıştı...   \n",
       "1  Bolşevik, çoğunluktan yana anlamına gelen Rusç...   \n",
       "2  küçükresim|200px|Cinepaint ekran yakalama görü...   \n",
       "3  Linux (telaffuz: Lin-uks); Linux çekirdeğine d...   \n",
       "4  Cengiz Han (doğum adıyla Temuçin, – 18 Ağustos...   \n",
       "\n",
       "                                                 ner  \n",
       "0  [{'end': 188, 'entity': 'I-ORG', 'index': 38, ...  \n",
       "1  [{'end': 85, 'entity': 'B-ORG', 'index': 17, '...  \n",
       "2  [{'end': 55, 'entity': 'B-ORG', 'index': 15, '...  \n",
       "3  [{'end': 32, 'entity': 'B-ORG', 'index': 11, '...  \n",
       "4  [{'end': 6, 'entity': 'B-PER', 'index': 1, 'sc...  "
      ]
     },
     "execution_count": 16,
     "metadata": {},
     "output_type": "execute_result"
    }
   ],
   "source": [
    "df.head()"
   ]
  },
  {
   "cell_type": "markdown",
   "metadata": {},
   "source": [
    "I need to do some basic formatting of the ner column"
   ]
  },
  {
   "cell_type": "code",
   "execution_count": null,
   "metadata": {},
   "outputs": [
    {
     "data": {
      "text/plain": [
       "(array([{'end': 85, 'entity': 'B-ORG', 'index': 17, 'score': 0.9971306920051575, 'start': 80, 'word': 'Rusya'},\n",
       "        {'end': 92, 'entity': 'I-ORG', 'index': 18, 'score': 0.9971086382865906, 'start': 86, 'word': 'Sosyal'},\n",
       "        {'end': 101, 'entity': 'I-ORG', 'index': 19, 'score': 0.9979633092880249, 'start': 93, 'word': 'Demokrat'},\n",
       "        {'end': 106, 'entity': 'I-ORG', 'index': 20, 'score': 0.9975578784942627, 'start': 102, 'word': 'İşçi'},\n",
       "        {'end': 114, 'entity': 'I-ORG', 'index': 21, 'score': 0.9980023503303528, 'start': 107, 'word': 'Partisi'},\n",
       "        {'end': 115, 'entity': 'I-ORG', 'index': 22, 'score': 0.9879561066627502, 'start': 114, 'word': \"'\"},\n",
       "        {'end': 118, 'entity': 'I-ORG', 'index': 23, 'score': 0.9808854460716248, 'start': 115, 'word': 'nin'},\n",
       "        {'end': 125, 'entity': 'I-ORG', 'index': 24, 'score': 0.9884734749794006, 'start': 119, 'word': 'İkinci'},\n",
       "        {'end': 134, 'entity': 'I-ORG', 'index': 25, 'score': 0.9968262910842896, 'start': 126, 'word': 'Kongresi'},\n",
       "        {'end': 147, 'entity': 'B-PER', 'index': 28, 'score': 0.9991530179977417, 'start': 139, 'word': 'Vladimir'},\n",
       "        {'end': 153, 'entity': 'I-PER', 'index': 29, 'score': 0.9987101554870605, 'start': 148, 'word': 'Lenin'},\n",
       "        {'end': 160, 'entity': 'B-PER', 'index': 31, 'score': 0.9990962743759155, 'start': 157, 'word': 'Jul'},\n",
       "        {'end': 163, 'entity': 'I-PER', 'index': 32, 'score': 0.9205728769302368, 'start': 160, 'word': '##ius'},\n",
       "        {'end': 168, 'entity': 'I-PER', 'index': 33, 'score': 0.9988597631454468, 'start': 164, 'word': 'Mart'},\n",
       "        {'end': 170, 'entity': 'I-PER', 'index': 34, 'score': 0.9847790598869324, 'start': 168, 'word': '##ov'},\n",
       "        {'end': 625, 'entity': 'B-ORG', 'index': 117, 'score': 0.9870684146881104, 'start': 621, 'word': 'Ekim'},\n",
       "        {'end': 633, 'entity': 'I-ORG', 'index': 118, 'score': 0.9853768944740295, 'start': 626, 'word': 'Devrimi'},\n",
       "        {'end': 669, 'entity': 'B-LOC', 'index': 123, 'score': 0.929673969745636, 'start': 660, 'word': 'Sovyetler'},\n",
       "        {'end': 677, 'entity': 'I-LOC', 'index': 124, 'score': 0.9514408111572266, 'start': 670, 'word': 'Birliği'},\n",
       "        {'end': 759, 'entity': 'B-LOC', 'index': 143, 'score': 0.9916478395462036, 'start': 752, 'word': 'Brüksel'},\n",
       "        {'end': 775, 'entity': 'B-LOC', 'index': 146, 'score': 0.9964472651481628, 'start': 769, 'word': 'Londra'},\n",
       "        {'end': 792, 'entity': 'B-ORG', 'index': 150, 'score': 0.9976119995117188, 'start': 787, 'word': 'Rusya'},\n",
       "        {'end': 799, 'entity': 'I-ORG', 'index': 151, 'score': 0.9967374205589294, 'start': 793, 'word': 'Sosyal'},\n",
       "        {'end': 808, 'entity': 'I-ORG', 'index': 152, 'score': 0.9976809024810791, 'start': 800, 'word': 'Demokrat'},\n",
       "        {'end': 813, 'entity': 'I-ORG', 'index': 153, 'score': 0.9968808889389038, 'start': 809, 'word': 'İşçi'},\n",
       "        {'end': 821, 'entity': 'I-ORG', 'index': 154, 'score': 0.9967028498649597, 'start': 814, 'word': 'Partisi'},\n",
       "        {'end': 823, 'entity': 'I-ORG', 'index': 155, 'score': 0.9625978469848633, 'start': 822, 'word': 'R'},\n",
       "        {'end': 824, 'entity': 'I-ORG', 'index': 156, 'score': 0.9913890957832336, 'start': 823, 'word': '##S'},\n",
       "        {'end': 826, 'entity': 'I-ORG', 'index': 157, 'score': 0.9888678789138794, 'start': 824, 'word': '##Dİ'},\n",
       "        {'end': 827, 'entity': 'I-ORG', 'index': 158, 'score': 0.9841762781143188, 'start': 826, 'word': '##P'},\n",
       "        {'end': 830, 'entity': 'I-ORG', 'index': 160, 'score': 0.7959935069084167, 'start': 829, 'word': '.'},\n",
       "        {'end': 839, 'entity': 'I-ORG', 'index': 161, 'score': 0.807880699634552, 'start': 831, 'word': 'Kongresi'},\n",
       "        {'end': 973, 'entity': 'B-LOC', 'index': 182, 'score': 0.9790047407150269, 'start': 968, 'word': 'Rusya'},\n",
       "        {'end': 1030, 'entity': 'B-PER', 'index': 191, 'score': 0.9989903569221497, 'start': 1022, 'word': 'Vladimir'},\n",
       "        {'end': 1033, 'entity': 'I-PER', 'index': 192, 'score': 0.9993312358856201, 'start': 1031, 'word': 'İl'},\n",
       "        {'end': 1035, 'entity': 'I-PER', 'index': 193, 'score': 0.9978612065315247, 'start': 1033, 'word': '##yi'},\n",
       "        {'end': 1036, 'entity': 'I-PER', 'index': 194, 'score': 0.9970478415489197, 'start': 1035, 'word': '##ç'},\n",
       "        {'end': 1039, 'entity': 'I-PER', 'index': 195, 'score': 0.9904085397720337, 'start': 1037, 'word': 'Ul'},\n",
       "        {'end': 1042, 'entity': 'I-PER', 'index': 196, 'score': 0.9945172667503357, 'start': 1039, 'word': '##yan'},\n",
       "        {'end': 1044, 'entity': 'I-PER', 'index': 197, 'score': 0.9918233752250671, 'start': 1042, 'word': '##ov'},\n",
       "        {'end': 1069, 'entity': 'B-PER', 'index': 202, 'score': 0.9596894383430481, 'start': 1064, 'word': 'Lenin'},\n",
       "        {'end': 1310, 'entity': 'B-LOC', 'index': 246, 'score': 0.9287781119346619, 'start': 1307, 'word': 'Çar'},\n",
       "        {'end': 1313, 'entity': 'I-LOC', 'index': 247, 'score': 0.9339733719825745, 'start': 1310, 'word': '##lık'},\n",
       "        {'end': 1317, 'entity': 'I-LOC', 'index': 248, 'score': 0.9449167251586914, 'start': 1314, 'word': 'oto'},\n",
       "        {'end': 1318, 'entity': 'I-LOC', 'index': 249, 'score': 0.8080124258995056, 'start': 1317, 'word': '##k'},\n",
       "        {'end': 1322, 'entity': 'I-LOC', 'index': 250, 'score': 0.6089577674865723, 'start': 1318, 'word': '##rasi'},\n",
       "        {'end': 1345, 'entity': 'I-ORG', 'index': 254, 'score': 0.5348939895629883, 'start': 1338, 'word': 'devrimi'},\n",
       "        {'end': 1637, 'entity': 'B-PER', 'index': 307, 'score': 0.9981254935264587, 'start': 1634, 'word': 'Jul'},\n",
       "        {'end': 1640, 'entity': 'I-PER', 'index': 308, 'score': 0.9842884540557861, 'start': 1637, 'word': '##ius'},\n",
       "        {'end': 1645, 'entity': 'I-PER', 'index': 309, 'score': 0.9984579086303711, 'start': 1641, 'word': 'Mart'},\n",
       "        {'end': 1647, 'entity': 'I-PER', 'index': 310, 'score': 0.9425253868103027, 'start': 1645, 'word': '##ov'},\n",
       "        {'end': 2073, 'entity': 'B-PER', 'index': 395, 'score': 0.7221407294273376, 'start': 2069, 'word': 'Mart'},\n",
       "        {'end': 2075, 'entity': 'I-PER', 'index': 396, 'score': 0.916628360748291, 'start': 2073, 'word': '##ov'},\n",
       "        {'end': 2207, 'entity': 'B-PER', 'index': 432, 'score': 0.41975805163383484, 'start': 2202, 'word': 'Lenin'},\n",
       "        {'end': 2383, 'entity': 'B-ORG', 'index': 469, 'score': 0.9887300133705139, 'start': 2380, 'word': '190'},\n",
       "        {'end': 2384, 'entity': 'I-ORG', 'index': 470, 'score': 0.9842498302459717, 'start': 2383, 'word': '##5'},\n",
       "        {'end': 2392, 'entity': 'I-ORG', 'index': 471, 'score': 0.9794877171516418, 'start': 2385, 'word': 'Devrimi'},\n",
       "        {'end': 2467, 'entity': 'B-ORG', 'index': 487, 'score': 0.4510436952114105, 'start': 2464, 'word': 'Rus'},\n",
       "        {'end': 2472, 'entity': 'I-ORG', 'index': 488, 'score': 0.43195852637290955, 'start': 2468, 'word': 'mark'},\n",
       "        {'end': 2475, 'entity': 'I-ORG', 'index': 489, 'score': 0.6882273554801941, 'start': 2472, 'word': '##siz'},\n",
       "        {'end': 2512, 'entity': 'B-PER', 'index': 494, 'score': 0.9986458420753479, 'start': 2508, 'word': 'Geor'},\n",
       "        {'end': 2514, 'entity': 'I-PER', 'index': 495, 'score': 0.9961255192756653, 'start': 2512, 'word': '##gi'},\n",
       "        {'end': 2516, 'entity': 'I-PER', 'index': 496, 'score': 0.9994205236434937, 'start': 2515, 'word': 'P'},\n",
       "        {'end': 2518, 'entity': 'I-PER', 'index': 497, 'score': 0.9871658682823181, 'start': 2516, 'word': '##le'},\n",
       "        {'end': 2521, 'entity': 'I-PER', 'index': 498, 'score': 0.9960112571716309, 'start': 2518, 'word': '##han'},\n",
       "        {'end': 2523, 'entity': 'I-PER', 'index': 499, 'score': 0.9955946803092957, 'start': 2521, 'word': '##ov'},\n",
       "        {'end': 2548, 'entity': 'I-PER', 'index': 505, 'score': 0.473548024892807, 'start': 2546, 'word': '##şe'}],\n",
       "       dtype=object),\n",
       " 'Bolşevik, çoğunluktan yana anlamına gelen Rusça kelime, 1903 yılında düzenlenen Rusya Sosyal Demokrat İşçi Partisi\\'nin İkinci Kongresi\\'nde Vladimir Lenin ve Julius Martov arasında yeni kurulmakta olan partinin üyelik tanımı üzerine başlayan görüş ayrılığı sonucu yaşanan ayrışmadaki taraflardan Lenin yanlısı grup. Kongrede Lenin yanlıları çoğunlukta olduğu için Rusça çoğunluk anlamına gelen Bolşevik olarak, azınlıktaki Martov yanlıları da Menşevik olarak adlandırılacaktır. Kongreden sonra iki taraf arasında birleşme girişimleri olsa da birleşme gerçekleşmeyecek ve 1912 yılında kesin ayrım yaşanacaktır. Bolşevikler Ekim Devrimi ile iktidarı alacaklar ve Sovyetler Birliği\\'ni kuracaklardır. == Bölünmenin tarihçesi == Polis baskısı nedeniyle önce Brüksel sonra da Londra’da yapılan Rusya Sosyal Demokrat İşçi Partisi RSDİP 2. Kongresi 1903 yılı Ağustos ayında toplanır. Toplantıda yeni partinin üyelik esasları ve tanımı üzerinden önemli bir ayrılma yaşanacak ve Rusya’daki devrimci hareketi derinden etkileyecektir. Vladimir İlyiç Ulyanov ya da takma adıyla Lenin parti üyelerinin dar ve aktif bir çevreden oluşmasını, sadece ceplerinde parti kimliği taşıyan ve zaman zaman partiye uğrayanlardan, hatta hiç uğramayanlardan oluşmamasını savunuyordu. Bu faal üyeler profesyonel devrimci kadrolar olarak Çarlık otokrasisine karşı işçi devrimi yapabilecek bir devrimci partinin yaratılabilmesi için zamanlarının çoğunu örgütlenmeyle geçireceklerdir. Bu modele göre sempatizanlar dışarıda bırakılmış olmaktaydı. Partinin iç işleyişinde de demokratik merkeziyetçilik benimsenecekti. Lenin’in bu fikirlerine karşıt olarak ise arkadaşı Julius Martov partinin merkezinde profesyonel devrimcilerin olmasına onay verse de parti üyeliğinin sempatizanlara, devrimci işçilere ve diğerlerine açık olmasını savunuyordu. İkili bu konuyu daha önce de tartışmış olsalar da, görüş ayrılıkları kongrede ayrılığa yol açacaktır. Ayrılık ufak bir konuda ve kişisel ayrımdan kaynaklanıyor görünse de ayrım derinleşecek ve bölünme kaçınılmaz hale gelecektir. === İsmin kökeni === Lenin ve Martov yandaşları kongredeki durumlarına göre Rusça \"bolshinstvo\" (çoğunluk) ve \"menshinstvo\" (azınlık) olarak adlandırılırlarKongre Lenin’in savunduğu parti üyelik tarzını benimser.. Kongredeki delegeler sürekli olarak saf değiştirdikleri için birleşim başarısız olacak ve parti fiilen ikiye bölünecektir. === 1905 Devrimi === İki taraf da sürekli olarak yeni üyeler kazanıyor ve kaybediyordu. Rus marksizminin babası olarak adlandırılan Georgi Plehanov ilk başta Lenin ve Bolşeviklerden yana olacak ancak 1904\\'te ayrılacaktır. Menşeviklerden yana olan Leon Troçki ise Menşeviklerin Rus liberalleriyle uzlaşma girişimleri ve Bolşeviklerle birleşmeme tutumları yüzünden ayrılacaktırTroçki ve yakın arkadaşları Bolşeviklere dahil olmasa da onlara çok yakın duracaklar ve Enternasyonalistler olarak adlndırılan grup Ağustos 1917’de Bolşeviklere katılacaklardır.. İki taraf arasındaki ayrım Nisan 1905\\'te Bolşeviklerin ayrı yaptığı ve 3. Kongre olarak adlandıracakları kongre ile derinleşecektir. Menşevikler derhal alternatif bir kongre yapacaklardır. Rus İmparatorluğu Çarlık rejiminin 1905 Devrimi ile sarsıldığı dönemde Bolşevikler azınlıktadır. Ayaklanan halkın kendiliğinden kurduğu Sankt Petersburg İşçi SovyetindeKendiliğinden oluşan sovyet organı 1917 yılında da ortaya çıkacak ve Ekim Devriminden sonra yeni sosyalist devlete adını verecektir. azınlıkta olsalar da Troçki tarafından etkili bir şekilde temsil edilmektedirler. Buna rağmen Moskova Sovyetinde çoğunluktadırlar. Moskova Sovyetinin Aralık 1905\\'te aldığı 1905 Moskova Ayaklanması olarak bilinen ayaklanma kararı sonucu kentte iktidar alınacak ancak ayaklanma yaklaşık bir ayda bastırılacaktırLenin, başarısız olan Moskova ayaklanmasına çok önem verecek ve 1905 Devriminin dersleri olmasa 1917 Ekim Devriminin gerçekleştirilemeyeceğini söyleyecektir.. === 1906-1907 === 1905 Devrimi sürmekteyken Bolşevikler ile Menşevikler Stockholm’de Nisan 1906’da yapılan 4. Birleşim Kongresinde yeniden birleşmeye çalışırlar. Menşevikler Yahudiler arasında ayrı bir örgütlenmeyi savunan Genel Yahudi Emek Federasyonu ile ortak hareket edince Bolşevikler azınlıkta kalır. Kongrede birleşim yönünde karar alınsa da her grup kendi yönetimini koruyacaktır. Londra’da Mayıs 1907’de yapılan bir sonraki 5. Kongrede de bu durum değişmez. === Lenin ve Bogdanov arasında (1908–1909) === 1905 Devriminin 1907 yılına girildiğinde tamamen yenilmesiyle beraber Bolşevikler, Çarlık rejiminin düzenlediği 3. Duma’ya katılıp katılmamayı tartışırlar. Lenin, Grigory Zinoviev ve Lev Kamenev Duma’ya katılmayı savunurken, filozof Aleksandr Bogdanov, Anatoli Lunaçarski ve Mihail Pokrovski Duma’daki vekillerin geri çağrılmasını savunurlar. Bu grup Rusça geri çağırmak fiilinden türetilen Otzovistler olarak anılacaktır. Diğer bir grup ise Duma’da bulunan Bolşevik vekillerin parti yönetiminden bağımsız hareket etmelerinden dolayı ültimatomla uyarılmasını savunurlar. Bu gruba da Ultimatomcular denilecektir. Bolşevikler arasındaki Bogdanov yandaşlığı ve kararsızlık 1908 yılına doğru gelişince Lenin, Bogdanov’un filozof yanına saldırmaya başlar. 1909 yılında yayınladığı Materyalizm ve Ampiryokritisizm adlı eserde Bogdanov’u idealizm felsefesini savunmakla itham eder. Haziran 1909’da Paris’de Bolşevik yayın organı Proletary tarafından düzenlenen Bolşevik Konferansında Bogdanov eleştirilir ve Bolşevik saflarından atılır. === 1910 === Partinin ikiye bölünmüş olması ve Çarlık rejiminin yoğun baskısı, güçleri yeniden birleştirme yanlılarını harekete geçirir. Ocak 1910’da Bolşevikler, Otozovistler ve çok sayıda Menşevik grup Paris’de Merkez Komite toplantısı yaparlar. Kamenev ve Zinoviev birleşme gündemine karşı olsalar da Viktor Nogin gibi arabulucu Bolşeviklerin ısrarına boyun eğerler. Lenin birleşmeye şiddetle karşı çıksa da Bolşevik liderlik arasında yapılan oylamada azınlıkta kalır. Menşeviklerle yapılan anlaşmaya göre birleşik partinin yayın organı Troçki’nin Viyana’da çıkarttığı Pravda olacaktır. Ancak Pravda yayın kurulundaki Bolşevik temsilcisi Kamenev Ağustos 1910’da kuruldan istifa edince birlik çabaları sona erer. === 1912 ayrı parti === İki grup arasında ilişkiler 1912 yılında kopacaktır. Bu yılın Ocak ayında Bolşevikler sadece kendi örgütüyle topladıkları Prag Konferansında Menşevikler ve Otzovistler partiden resmen atılacaklardır. Bu kongreden sonra Bolşevikler artık kendilerini RSDİP’in hizibi olarak değil ayrı bir parti olarak RSDİP (Bolşevik) olarak tanımlayacaklardır. Bolşevik önderliği ayrı bir parti olmaya karar verse de Bolşevik yanlısı taban örgütü ve işçiler bu hattı izlemekte zorlanacaktır. Ayrıca Duma’daki 6 Bolşevik vekil de parti yönetiminin bu kararını kabul etmez. Sadece Matvei Muranov ayrı bir parti kurulmasından yana olurAyrılmaya karşı duran diğer Bolşevik vekiller arasında Ohranka ajanı olduğu sonradan anlaşılan Roman Malinovski de bulunmaktadır.. Ancak buna rağmen Bolşevik önderlik duruma hakim olacak ve Eylül 1913\\'te ise ayrı bir Duma grubu kurulacaktır. == İdeolojisi == Bolşevikler Çarlık rejimini kitlesel bir işçi devrimiyle devirecek merkezi ve disiplinli bir partiyi örgütlemeye çalışmıştır. Bolşevikler Rus işçilerine bir ayaklanmada önderlik edebilecek kitlesel ve sınıfın öncüsü militan işçilerin partisini oluşturmaya çalışmıştır. Bolşevik parti lider partisi olmamasına rağmen merkez komitesinde cisimleşmiş olan parti yönetimine demokratik merkeziyetçilik çerçevesinde sıkı sıkıya bağlı bir yapıdaydı. Menşeviklerin uyguladığı parti üyeliği daha esnekti ve diğer siyasi partilerle daha kolay iş birliği yapıyorlardıMenşevikler 1917 yılında Geçici Hükümette de yer alacak ve Temmuz Günleri sırasında işçi ayaklanmasına karşı tavır alacaklardır.. Bolşevikler ise özellikle liberal partilerle iş birliği yapmayacak, diğer sosyalist partilerle de tanımlı ittifaklara girecektirParti 1917 yılında Menşeviklerden ayrılan Enternasyonalistleri kapsamış, Ekim Devriminden sonra kurulan ilk Sovyet hükûmeti olan Sovnarkoma Sol SR’lar da dahil edilmiştir.. Bununla birlikte Lenin, Uluslararası Kadınlar Konseyi\\'nde yaptığı konuşmada bolşevizmi \"Burjuva demokrasisinin yalancılığını, ikiyüzlülüğünü açığa çıkaran; toprağın, fabrika ve tesislerin özel mülkiyetini kaldırmasında tüm devlet iktidarını, ezilen ve sömürülen kitlelerin elinde toplayan bir ideoloji\" şeklinde tanımlamıştır. == Yeniden isim değişikliği == 1952 yılında yapılan 19. Kongre sırasında Genel Sekreter Stalin’in önerisiyle isim değişikliği gündeme gelir: Stalin’in önerisi kongrede kabul edilir ve Bolşevik Partisinin adı Sovyetler Birliği Komünist Partisi olur. Bundan sonra Bolşevik adlandırması Ekim Devrimi ve Rus İç Savaşı dönemlerine ait olarak kalacaktır. == Kaynakça == * Kategori:Sovyetler Birliği Komünist Partisi Kategori:Rusya tarihi Kategori:Rus Devrimi Kategori:Rusya\\'daki eski siyasi partiler Kategori:Eski komünist partiler Kategori:1903\\'te kurulan siyasi partiler')"
      ]
     },
     "execution_count": 24,
     "metadata": {},
     "output_type": "execute_result"
    }
   ],
   "source": []
  },
  {
   "cell_type": "code",
   "execution_count": null,
   "metadata": {},
   "outputs": [],
   "source": []
  }
 ],
 "metadata": {
  "kernelspec": {
   "display_name": ".venv",
   "language": "python",
   "name": "python3"
  },
  "language_info": {
   "codemirror_mode": {
    "name": "ipython",
    "version": 3
   },
   "file_extension": ".py",
   "mimetype": "text/x-python",
   "name": "python",
   "nbconvert_exporter": "python",
   "pygments_lexer": "ipython3",
   "version": "3.11.7"
  }
 },
 "nbformat": 4,
 "nbformat_minor": 2
}
